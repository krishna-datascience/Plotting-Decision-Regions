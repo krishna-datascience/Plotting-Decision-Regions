{
 "cells": [
  {
   "cell_type": "markdown",
   "metadata": {},
   "source": [
    "# Using classifiers that expect onehot-encoded outputs (Keras)\n",
    "\n",
    "    Most objects for classification that mimick the scikit-learn estimator API should be compatible with the \n",
    "    \n",
    "    plot_decision_regions function. However, if the classification model (e.g., a typical Keras model) output onehot-\n",
    "    \n",
    "    encoded predictions, we have to use an additional trick. I.e., for onehot encoded outputs, we need to wrap the Keras \n",
    "    \n",
    "    model into a class that converts these onehot encoded variables into integers. Such a wrapper class can be as simple\n",
    "    \n",
    "    as the following:"
   ]
  },
  {
   "cell_type": "code",
   "execution_count": 1,
   "metadata": {},
   "outputs": [],
   "source": [
    "class Onehot2Int(object):\n",
    "\n",
    "    def __init__(self, model):\n",
    "        self.model = model\n",
    "\n",
    "    def predict(self, X):\n",
    "        y_pred = self.model.predict(X)\n",
    "        return np.argmax(y_pred, axis=1)"
   ]
  },
  {
   "cell_type": "markdown",
   "metadata": {},
   "source": [
    "## The example below illustrates how the Onehot2Int class can be used with a Keras model that outputs onehot encoded labels:"
   ]
  },
  {
   "cell_type": "code",
   "execution_count": 2,
   "metadata": {},
   "outputs": [
    {
     "name": "stderr",
     "output_type": "stream",
     "text": [
      "Using TensorFlow backend.\n"
     ]
    },
    {
     "name": "stdout",
     "output_type": "stream",
     "text": [
      "Train on 135 samples, validate on 15 samples\n",
      "Epoch 1/10\n",
      "135/135 [==============================] - 1s 6ms/step - loss: 1.0488 - accuracy: 0.4074 - val_loss: 1.1137 - val_accuracy: 0.0000e+00\n",
      "Epoch 2/10\n",
      "135/135 [==============================] - 0s 267us/step - loss: 0.8552 - accuracy: 0.6519 - val_loss: 1.1566 - val_accuracy: 0.0000e+00\n",
      "Epoch 3/10\n",
      "135/135 [==============================] - 0s 311us/step - loss: 0.6598 - accuracy: 0.6889 - val_loss: 1.1101 - val_accuracy: 0.0000e+00\n",
      "Epoch 4/10\n",
      "135/135 [==============================] - 0s 289us/step - loss: 0.5323 - accuracy: 0.7185 - val_loss: 1.0635 - val_accuracy: 0.0000e+00\n",
      "Epoch 5/10\n",
      "135/135 [==============================] - 0s 311us/step - loss: 0.4367 - accuracy: 0.8444 - val_loss: 1.0048 - val_accuracy: 0.6667\n",
      "Epoch 6/10\n",
      "135/135 [==============================] - 0s 311us/step - loss: 0.3775 - accuracy: 0.8963 - val_loss: 0.9082 - val_accuracy: 0.8000\n",
      "Epoch 7/10\n",
      "135/135 [==============================] - 0s 289us/step - loss: 0.3360 - accuracy: 0.9407 - val_loss: 0.8482 - val_accuracy: 0.8667\n",
      "Epoch 8/10\n",
      "135/135 [==============================] - 0s 311us/step - loss: 0.3087 - accuracy: 0.9259 - val_loss: 0.7784 - val_accuracy: 0.8667\n",
      "Epoch 9/10\n",
      "135/135 [==============================] - 0s 304us/step - loss: 0.2792 - accuracy: 0.9407 - val_loss: 0.7038 - val_accuracy: 0.9333\n",
      "Epoch 10/10\n",
      "135/135 [==============================] - 0s 311us/step - loss: 0.2618 - accuracy: 0.9556 - val_loss: 0.6315 - val_accuracy: 1.0000\n"
     ]
    }
   ],
   "source": [
    "import keras\n",
    "from keras.models import Sequential\n",
    "from keras.layers import Dense\n",
    "import matplotlib.pyplot as plt\n",
    "import numpy as np\n",
    "from mlxtend.data import iris_data\n",
    "from mlxtend.preprocessing import standardize\n",
    "from mlxtend.plotting import plot_decision_regions\n",
    "from keras.utils import to_categorical\n",
    "\n",
    "X, y = iris_data()\n",
    "X = X[:, [2, 3]]\n",
    "\n",
    "X = standardize(X)\n",
    "\n",
    "# OneHot encoding\n",
    "y_onehot = to_categorical(y)\n",
    "\n",
    "# Create the model\n",
    "np.random.seed(123)\n",
    "model = Sequential()\n",
    "model.add(Dense(8, input_shape=(2,), activation='relu', kernel_initializer='he_uniform'))\n",
    "model.add(Dense(4, activation='relu', kernel_initializer='he_uniform'))\n",
    "model.add(Dense(3, activation='softmax'))\n",
    "\n",
    "# Configure the model and start training\n",
    "model.compile(loss=\"categorical_crossentropy\", optimizer=keras.optimizers.adam(lr=0.005), metrics=['accuracy'])\n",
    "history = model.fit(X, y_onehot, epochs=10, batch_size=5, verbose=1, validation_split=0.1)"
   ]
  },
  {
   "cell_type": "code",
   "execution_count": 3,
   "metadata": {},
   "outputs": [
    {
     "data": {
      "image/png": "[encoded data removed]",
      "text/plain": [
       "<Figure size 432x288 with 1 Axes>"
      ]
     },
     "metadata": {
      "needs_background": "light"
     },
     "output_type": "display_data"
    }
   ],
   "source": [
    "# Wrap keras model\n",
    "model_no_ohe = Onehot2Int(model)\n",
    "\n",
    "# Plot decision boundary\n",
    "plot_decision_regions(X, y, clf=model_no_ohe)\n",
    "plt.show()"
   ]
  },
  {
   "cell_type": "code",
   "execution_count": null,
   "metadata": {},
   "outputs": [],
   "source": []
  }
 ],
 "metadata": {
  "kernelspec": {
   "display_name": "Python 3",
   "language": "python",
   "name": "python3"
  },
  "language_info": {
   "codemirror_mode": {
    "name": "ipython",
    "version": 3
   },
   "file_extension": ".py",
   "mimetype": "text/x-python",
   "name": "python",
   "nbconvert_exporter": "python",
   "pygments_lexer": "ipython3",
   "version": "3.7.3"
  }
 },
 "nbformat": 4,
 "nbformat_minor": 2
}
